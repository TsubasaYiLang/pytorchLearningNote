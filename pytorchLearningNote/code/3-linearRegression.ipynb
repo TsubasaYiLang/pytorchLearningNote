{
 "cells": [
  {
   "cell_type": "code",
   "execution_count": 1,
   "metadata": {},
   "outputs": [],
   "source": [
    "import torch"
   ]
  },
  {
   "cell_type": "code",
   "execution_count": 9,
   "metadata": {},
   "outputs": [],
   "source": [
    "x_data = torch.Tensor([[1.0], [2.0], [3.0]])\n",
    "y_data = torch.Tensor([[2.0], [4.0], [6.0]])"
   ]
  },
  {
   "cell_type": "code",
   "execution_count": 3,
   "metadata": {},
   "outputs": [],
   "source": [
    "class LinearModel(torch.nn.Module):\n",
    "  def __init__(self):\n",
    "    super(LinearModel, self).__init__()\n",
    "    self.linear = torch.nn.Linear(1, 1) #构造对象，并说明输入输出的维数，第三个参数默认为true，表示用到b\n",
    "  \n",
    "  def forward(self, x):\n",
    "    y_pred = self.linear(x) #可调用对象，计算y=wx+b\n",
    "    return y_pred\n",
    "\n",
    "model = LinearModel()"
   ]
  },
  {
   "cell_type": "code",
   "execution_count": 20,
   "metadata": {},
   "outputs": [],
   "source": [
    "criterion = torch.nn.MSELoss(size_average=False)\n",
    "#model.parameters()会扫描module中的所有成员，如果成员中有相应权重，那么都会将结果加到要训练的参数集合上\n",
    "# optimizer = torch.optim.SGD(model.parameters(), lr=0.01)\n",
    "optimizer = torch.optim.Adagrad(model.parameters(), lr = 0.1)"
   ]
  },
  {
   "cell_type": "code",
   "execution_count": 21,
   "metadata": {},
   "outputs": [
    {
     "name": "stdout",
     "output_type": "stream",
     "text": [
      "0 tensor(1.4383e-08, grad_fn=<MseLossBackward0>)\n",
      "1 tensor(0.0500, grad_fn=<MseLossBackward0>)\n",
      "2 tensor(0.1200, grad_fn=<MseLossBackward0>)\n",
      "3 tensor(0.0232, grad_fn=<MseLossBackward0>)\n",
      "4 tensor(0.0085, grad_fn=<MseLossBackward0>)\n",
      "5 tensor(0.0066, grad_fn=<MseLossBackward0>)\n",
      "6 tensor(0.0059, grad_fn=<MseLossBackward0>)\n",
      "7 tensor(0.0054, grad_fn=<MseLossBackward0>)\n",
      "8 tensor(0.0050, grad_fn=<MseLossBackward0>)\n",
      "9 tensor(0.0046, grad_fn=<MseLossBackward0>)\n",
      "10 tensor(0.0042, grad_fn=<MseLossBackward0>)\n",
      "11 tensor(0.0038, grad_fn=<MseLossBackward0>)\n",
      "12 tensor(0.0035, grad_fn=<MseLossBackward0>)\n",
      "13 tensor(0.0032, grad_fn=<MseLossBackward0>)\n",
      "14 tensor(0.0029, grad_fn=<MseLossBackward0>)\n",
      "15 tensor(0.0027, grad_fn=<MseLossBackward0>)\n",
      "16 tensor(0.0025, grad_fn=<MseLossBackward0>)\n",
      "17 tensor(0.0023, grad_fn=<MseLossBackward0>)\n",
      "18 tensor(0.0021, grad_fn=<MseLossBackward0>)\n",
      "19 tensor(0.0019, grad_fn=<MseLossBackward0>)\n",
      "20 tensor(0.0017, grad_fn=<MseLossBackward0>)\n",
      "21 tensor(0.0016, grad_fn=<MseLossBackward0>)\n",
      "22 tensor(0.0015, grad_fn=<MseLossBackward0>)\n",
      "23 tensor(0.0013, grad_fn=<MseLossBackward0>)\n",
      "24 tensor(0.0012, grad_fn=<MseLossBackward0>)\n",
      "25 tensor(0.0011, grad_fn=<MseLossBackward0>)\n",
      "26 tensor(0.0010, grad_fn=<MseLossBackward0>)\n",
      "27 tensor(0.0009, grad_fn=<MseLossBackward0>)\n",
      "28 tensor(0.0009, grad_fn=<MseLossBackward0>)\n",
      "29 tensor(0.0008, grad_fn=<MseLossBackward0>)\n",
      "30 tensor(0.0007, grad_fn=<MseLossBackward0>)\n",
      "31 tensor(0.0007, grad_fn=<MseLossBackward0>)\n",
      "32 tensor(0.0006, grad_fn=<MseLossBackward0>)\n",
      "33 tensor(0.0006, grad_fn=<MseLossBackward0>)\n",
      "34 tensor(0.0005, grad_fn=<MseLossBackward0>)\n",
      "35 tensor(0.0005, grad_fn=<MseLossBackward0>)\n",
      "36 tensor(0.0004, grad_fn=<MseLossBackward0>)\n",
      "37 tensor(0.0004, grad_fn=<MseLossBackward0>)\n",
      "38 tensor(0.0004, grad_fn=<MseLossBackward0>)\n",
      "39 tensor(0.0003, grad_fn=<MseLossBackward0>)\n",
      "40 tensor(0.0003, grad_fn=<MseLossBackward0>)\n",
      "41 tensor(0.0003, grad_fn=<MseLossBackward0>)\n",
      "42 tensor(0.0003, grad_fn=<MseLossBackward0>)\n",
      "43 tensor(0.0002, grad_fn=<MseLossBackward0>)\n",
      "44 tensor(0.0002, grad_fn=<MseLossBackward0>)\n",
      "45 tensor(0.0002, grad_fn=<MseLossBackward0>)\n",
      "46 tensor(0.0002, grad_fn=<MseLossBackward0>)\n",
      "47 tensor(0.0002, grad_fn=<MseLossBackward0>)\n",
      "48 tensor(0.0002, grad_fn=<MseLossBackward0>)\n",
      "49 tensor(0.0001, grad_fn=<MseLossBackward0>)\n",
      "50 tensor(0.0001, grad_fn=<MseLossBackward0>)\n",
      "51 tensor(0.0001, grad_fn=<MseLossBackward0>)\n",
      "52 tensor(0.0001, grad_fn=<MseLossBackward0>)\n",
      "53 tensor(9.8124e-05, grad_fn=<MseLossBackward0>)\n",
      "54 tensor(8.9936e-05, grad_fn=<MseLossBackward0>)\n",
      "55 tensor(8.2442e-05, grad_fn=<MseLossBackward0>)\n",
      "56 tensor(7.5569e-05, grad_fn=<MseLossBackward0>)\n",
      "57 tensor(6.9265e-05, grad_fn=<MseLossBackward0>)\n",
      "58 tensor(6.3486e-05, grad_fn=<MseLossBackward0>)\n",
      "59 tensor(5.8196e-05, grad_fn=<MseLossBackward0>)\n",
      "60 tensor(5.3342e-05, grad_fn=<MseLossBackward0>)\n",
      "61 tensor(4.8893e-05, grad_fn=<MseLossBackward0>)\n",
      "62 tensor(4.4817e-05, grad_fn=<MseLossBackward0>)\n",
      "63 tensor(4.1080e-05, grad_fn=<MseLossBackward0>)\n",
      "64 tensor(3.7654e-05, grad_fn=<MseLossBackward0>)\n",
      "65 tensor(3.4514e-05, grad_fn=<MseLossBackward0>)\n",
      "66 tensor(3.1637e-05, grad_fn=<MseLossBackward0>)\n",
      "67 tensor(2.9000e-05, grad_fn=<MseLossBackward0>)\n",
      "68 tensor(2.6579e-05, grad_fn=<MseLossBackward0>)\n",
      "69 tensor(2.4364e-05, grad_fn=<MseLossBackward0>)\n",
      "70 tensor(2.2332e-05, grad_fn=<MseLossBackward0>)\n",
      "71 tensor(2.0470e-05, grad_fn=<MseLossBackward0>)\n",
      "72 tensor(1.8764e-05, grad_fn=<MseLossBackward0>)\n",
      "73 tensor(1.7199e-05, grad_fn=<MseLossBackward0>)\n",
      "74 tensor(1.5763e-05, grad_fn=<MseLossBackward0>)\n",
      "75 tensor(1.4450e-05, grad_fn=<MseLossBackward0>)\n",
      "76 tensor(1.3245e-05, grad_fn=<MseLossBackward0>)\n",
      "77 tensor(1.2141e-05, grad_fn=<MseLossBackward0>)\n",
      "78 tensor(1.1128e-05, grad_fn=<MseLossBackward0>)\n",
      "79 tensor(1.0200e-05, grad_fn=<MseLossBackward0>)\n",
      "80 tensor(9.3507e-06, grad_fn=<MseLossBackward0>)\n",
      "81 tensor(8.5698e-06, grad_fn=<MseLossBackward0>)\n",
      "82 tensor(7.8559e-06, grad_fn=<MseLossBackward0>)\n",
      "83 tensor(7.2000e-06, grad_fn=<MseLossBackward0>)\n",
      "84 tensor(6.5991e-06, grad_fn=<MseLossBackward0>)\n",
      "85 tensor(6.0489e-06, grad_fn=<MseLossBackward0>)\n",
      "86 tensor(5.5452e-06, grad_fn=<MseLossBackward0>)\n",
      "87 tensor(5.0822e-06, grad_fn=<MseLossBackward0>)\n",
      "88 tensor(4.6598e-06, grad_fn=<MseLossBackward0>)\n",
      "89 tensor(4.2703e-06, grad_fn=<MseLossBackward0>)\n",
      "90 tensor(3.9139e-06, grad_fn=<MseLossBackward0>)\n",
      "91 tensor(3.5882e-06, grad_fn=<MseLossBackward0>)\n",
      "92 tensor(3.2890e-06, grad_fn=<MseLossBackward0>)\n",
      "93 tensor(3.0145e-06, grad_fn=<MseLossBackward0>)\n",
      "94 tensor(2.7636e-06, grad_fn=<MseLossBackward0>)\n",
      "95 tensor(2.5331e-06, grad_fn=<MseLossBackward0>)\n",
      "96 tensor(2.3223e-06, grad_fn=<MseLossBackward0>)\n",
      "97 tensor(2.1285e-06, grad_fn=<MseLossBackward0>)\n",
      "98 tensor(1.9508e-06, grad_fn=<MseLossBackward0>)\n",
      "99 tensor(1.7890e-06, grad_fn=<MseLossBackward0>)\n"
     ]
    }
   ],
   "source": [
    "for epoch in range(100):\n",
    "  y_pred = model(x_data)\n",
    "  loss = criterion(y_pred, y_data)\n",
    "  print(epoch, loss)\n",
    "\n",
    "  optimizer.zero_grad()\n",
    "  loss.backward()\n",
    "  optimizer.step()"
   ]
  },
  {
   "cell_type": "code",
   "execution_count": 22,
   "metadata": {},
   "outputs": [
    {
     "name": "stdout",
     "output_type": "stream",
     "text": [
      "w =  2.000872850418091\n",
      "b =  -0.001941854483447969\n",
      "y_pred =  tensor([[8.0015]])\n"
     ]
    }
   ],
   "source": [
    "# Output weigt and bias\n",
    "print(\"w = \", model.linear.weight.item())\n",
    "print(\"b = \", model.linear.bias.item())\n",
    "\n",
    "# Test Model\n",
    "x_test = torch.Tensor([[4.0]])\n",
    "y_test = model(x_test)\n",
    "print(\"y_pred = \", y_test.data)"
   ]
  },
  {
   "cell_type": "markdown",
   "metadata": {},
   "source": [
    "### 训练步骤：  \n",
    "1. 准备数据\n",
    "2. 设计模型\n",
    "   继承自nn，Module  \n",
    "3. 构造损失函数和优化器\n",
    "   使用PyTorch的API\n",
    "4. 写训练循环\n",
    "   forward、backward、update"
   ]
  },
  {
   "cell_type": "markdown",
   "metadata": {},
   "source": [
    "### 其他优化器\n",
    "torch.optim.Adagrad\n",
    "torch.optim.Adam\n",
    "torch.optim.Adamax\n",
    "torch.optim.ASGD\n",
    "torch.optim.LBFGS\n",
    "torch.optim.RMSprop\n",
    "torch.optim.Rprop\n",
    "torch.optim.SGD"
   ]
  },
  {
   "cell_type": "code",
   "execution_count": 14,
   "metadata": {},
   "outputs": [],
   "source": [
    "# 如果要使用一个可调用对象，那么在类的声明的时候要定义一个 call()函数就OK了，就像这样\n",
    "class Foobar:\n",
    "\tdef __init__(self):\n",
    "\t\tpass\n",
    "\tdef __call__(self,*args,**kwargs):\n",
    "\t\tpass"
   ]
  },
  {
   "cell_type": "code",
   "execution_count": 17,
   "metadata": {},
   "outputs": [
    {
     "name": "stdout",
     "output_type": "stream",
     "text": [
      "(1, 2, 3, 4)\n",
      "{'x': 3, 'y': 5}\n"
     ]
    }
   ],
   "source": [
    "# 其中参数*args代表把前面n个参数变成n元组，**kwargsd会把参数变成一个词典，举个例子：\n",
    "def func(*args,**kwargs):\n",
    " \tprint(args)\n",
    " \tprint(kwargs)\n",
    "\n",
    "#调用一下\n",
    "func(1,2,3,4,x=3,y=5)"
   ]
  },
  {
   "cell_type": "code",
   "execution_count": null,
   "metadata": {},
   "outputs": [],
   "source": []
  }
 ],
 "metadata": {
  "kernelspec": {
   "display_name": "Python 3.9.7 ('base')",
   "language": "python",
   "name": "python3"
  },
  "language_info": {
   "codemirror_mode": {
    "name": "ipython",
    "version": 3
   },
   "file_extension": ".py",
   "mimetype": "text/x-python",
   "name": "python",
   "nbconvert_exporter": "python",
   "pygments_lexer": "ipython3",
   "version": "3.9.7"
  },
  "orig_nbformat": 4,
  "vscode": {
   "interpreter": {
    "hash": "83893ed8ab2f7255fca62e454031b1e5cdc52831ef9a8084c39c59e4ac6d9f46"
   }
  }
 },
 "nbformat": 4,
 "nbformat_minor": 2
}
